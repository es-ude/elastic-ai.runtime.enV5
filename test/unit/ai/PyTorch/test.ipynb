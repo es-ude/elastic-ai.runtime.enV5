{
 "cells": [
  {
   "cell_type": "code",
   "id": "initial_id",
   "metadata": {
    "collapsed": true,
    "ExecuteTime": {
     "end_time": "2025-09-18T14:47:37.873833Z",
     "start_time": "2025-09-18T14:47:37.870676Z"
    }
   },
   "source": [
    "from torch import nn, Tensor\n",
    "from torch.nn import Parameter, Softmax, ReLU"
   ],
   "outputs": [],
   "execution_count": 6
  },
  {
   "metadata": {
    "ExecuteTime": {
     "end_time": "2025-09-23T12:03:42.693022Z",
     "start_time": "2025-09-23T12:03:42.686260Z"
    }
   },
   "cell_type": "code",
   "source": [
    "f = nn.Softmax(dim=0)\n",
    "x = nn.Parameter(Tensor([-1., 0., 1., 2., 5., -6.]), requires_grad=True)\n",
    "y = f(x)\n",
    "print(y)\n",
    "\n",
    "test = nn.Parameter(Tensor([[[1, 2, 3], [4, 5, 6]], [[1, 2, 3], [4, 5, 6]]]))\n",
    "print(test.shape)\n",
    "with torch.no_grad():\n",
    "    target = y+ Tensor([-1., 0., 1., 1, -5, -1.])\n",
    "\n",
    "loss_fn = nn.MSELoss()\n",
    "loss = loss_fn(y, target)\n",
    "loss.backward()\n",
    "\n",
    "print(x.grad)"
   ],
   "id": "d6bc0736b964dc8d",
   "outputs": [
    {
     "name": "stdout",
     "output_type": "stream",
     "text": [
      "tensor([2.3008e-03, 6.2543e-03, 1.7001e-02, 4.6213e-02, 9.2822e-01, 1.5503e-05],\n",
      "       grad_fn=<SoftmaxBackward0>)\n",
      "torch.Size([2, 2, 3])\n",
      "tensor([-2.7458e-03, -9.5486e-03, -3.1623e-02, -8.5959e-02,  1.2989e-01,\n",
      "        -1.8501e-05])\n"
     ]
    }
   ],
   "execution_count": 23
  },
  {
   "metadata": {},
   "cell_type": "markdown",
   "source": "",
   "id": "d13d16b959267640"
  },
  {
   "metadata": {
    "ExecuteTime": {
     "end_time": "2025-09-23T15:18:04.755178Z",
     "start_time": "2025-09-23T15:18:04.747074Z"
    }
   },
   "cell_type": "code",
   "source": [
    "criterion = nn.CrossEntropyLoss()\n",
    "logits = torch.tensor([[2.0, 1.0, 0.1]])\n",
    "\n",
    "target1 = torch.tensor([0])\n",
    "fake_param1 = Parameter(torch.zeros_like(logits), requires_grad=True)\n",
    "loss1 = criterion(logits+fake_param1, target1)\n",
    "print(loss1.item())\n",
    "loss1.backward()\n",
    "print(fake_param1.grad)\n",
    "\n",
    "print(\"\")\n",
    "\n",
    "target2 = torch.tensor([[0.9, 0.1, 0.]])\n",
    "fake_param2 = Parameter(torch.zeros_like(logits), requires_grad=True)\n",
    "loss2 = criterion(logits+fake_param2, target2)\n",
    "print(loss2.item())\n",
    "loss2.backward()\n",
    "print(fake_param2.grad)\n",
    "\n"
   ],
   "id": "31fd349ba58974c7",
   "outputs": [
    {
     "name": "stdout",
     "output_type": "stream",
     "text": [
      "0.4170299470424652\n",
      "tensor([[-0.3410,  0.2424,  0.0986]])\n",
      "\n",
      "0.5170299410820007\n",
      "tensor([[-0.2410,  0.1424,  0.0986]])\n"
     ]
    }
   ],
   "execution_count": 56
  },
  {
   "metadata": {
    "ExecuteTime": {
     "end_time": "2025-09-23T12:03:12.418311Z",
     "start_time": "2025-09-23T12:03:12.406875Z"
    }
   },
   "cell_type": "code",
   "source": [
    "conv1d = nn.Conv1d(in_channels=2, out_channels=3, kernel_size=3, padding=0)\n",
    "\n",
    "model = Sequential(conv1d)\n",
    "model[0].weight = Parameter(\n",
    "    Tensor([[[-1., 0., 1.], [-1., 2., 3.]], \n",
    "            [[0., 0., 0.], [1., -1., -2.]], \n",
    "            [[-2., -1., -2.], [-3., -1., 0.]]]))\n",
    "model[0].bias = Parameter(Tensor([0.,1.,2.]))\n",
    "\n",
    "x = Tensor([[ [1.,2.,3.,4.,5.,6.], [-1.,-2.,-3.,-4.,-5.,-6.] ]])\n",
    "x.requires_grad = True\n",
    "y = model(x)\n",
    "print(y)\n",
    "loss_fn = MSELoss()\n",
    "with torch.no_grad():\n",
    "    target = y+Tensor([[ [-1.,0.,-2.,-1.], [1.,0.,-2.,-4.], [-2.,-1.,0.,-1.] ]])\n",
    "print(target)\n",
    "loss = loss_fn(y, target)\n",
    "loss.backward()\n",
    "\n",
    "\n",
    "print(\"FIRST CONVOLUTION\")\n",
    "print(\"Gradient wrt x:\")\n",
    "print(x.grad)\n",
    "print(\"Gradient wrt weights:\")\n",
    "print(model[0].weight.grad)\n",
    "print(\"Gradient wrt bias:\")\n",
    "print(model[0].bias.grad)\n",
    "print(\"\")\n",
    "print(\"--------------------------\")\n",
    "\n",
    "print(\"SECOND CONVOLUTION\")\n",
    "print(\"Gradient wrt x:\")\n",
    "print(x.grad)\n",
    "print(\"Gradient wrt weights:\")\n",
    "print(model[0].weight.grad)\n",
    "print(\"Gradient wrt bias:\")\n",
    "print(model[0].bias.grad)\n"
   ],
   "id": "8cfd923623c6c321",
   "outputs": [
    {
     "name": "stdout",
     "output_type": "stream",
     "text": [
      "tensor([[[-10., -14., -18., -22.],\n",
      "         [  8.,  10.,  12.,  14.],\n",
      "         [ -3.,  -4.,  -5.,  -6.]]], grad_fn=<ConvolutionBackward0>)\n",
      "tensor([[[-11., -14., -20., -23.],\n",
      "         [  9.,  10.,  10.,  10.],\n",
      "         [ -5.,  -5.,  -5.,  -7.]]])\n",
      "FIRST CONVOLUTION\n",
      "Gradient wrt x:\n",
      "tensor([[[-0.8333, -0.6667, -1.0000, -0.8333,  0.1667, -0.1667],\n",
      "         [-1.3333, -0.3333,  0.6667,  0.3333, -0.1667, -0.8333]]])\n",
      "Gradient wrt weights:\n",
      "tensor([[[ 1.8333,  2.5000,  3.1667],\n",
      "         [-1.8333, -2.5000, -3.1667]],\n",
      "\n",
      "        [[ 3.5000,  4.3333,  5.1667],\n",
      "         [-3.5000, -4.3333, -5.1667]],\n",
      "\n",
      "        [[ 1.3333,  2.0000,  2.6667],\n",
      "         [-1.3333, -2.0000, -2.6667]]])\n",
      "Gradient wrt bias:\n",
      "tensor([0.6667, 0.8333, 0.6667])\n",
      "\n",
      "--------------------------\n",
      "SECOND CONVOLUTION\n",
      "Gradient wrt x:\n",
      "tensor([[[-0.8333, -0.6667, -1.0000, -0.8333,  0.1667, -0.1667],\n",
      "         [-1.3333, -0.3333,  0.6667,  0.3333, -0.1667, -0.8333]]])\n",
      "Gradient wrt weights:\n",
      "tensor([[[ 1.8333,  2.5000,  3.1667],\n",
      "         [-1.8333, -2.5000, -3.1667]],\n",
      "\n",
      "        [[ 3.5000,  4.3333,  5.1667],\n",
      "         [-3.5000, -4.3333, -5.1667]],\n",
      "\n",
      "        [[ 1.3333,  2.0000,  2.6667],\n",
      "         [-1.3333, -2.0000, -2.6667]]])\n",
      "Gradient wrt bias:\n",
      "tensor([0.6667, 0.8333, 0.6667])\n"
     ]
    }
   ],
   "execution_count": 21
  }
 ],
 "metadata": {
  "kernelspec": {
   "display_name": "Python 3",
   "language": "python",
   "name": "python3"
  },
  "language_info": {
   "codemirror_mode": {
    "name": "ipython",
    "version": 2
   },
   "file_extension": ".py",
   "mimetype": "text/x-python",
   "name": "python",
   "nbconvert_exporter": "python",
   "pygments_lexer": "ipython2",
   "version": "2.7.6"
  }
 },
 "nbformat": 4,
 "nbformat_minor": 5
}
