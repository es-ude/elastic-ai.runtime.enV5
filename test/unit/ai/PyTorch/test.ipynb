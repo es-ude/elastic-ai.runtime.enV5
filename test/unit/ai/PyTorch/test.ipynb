{
 "cells": [
  {
   "cell_type": "code",
   "id": "initial_id",
   "metadata": {
    "collapsed": true,
    "ExecuteTime": {
     "end_time": "2025-09-15T12:33:46.342452Z",
     "start_time": "2025-09-15T12:33:46.340112Z"
    }
   },
   "source": [
    "from torch import nn, Tensor\n",
    "from torch.nn import Parameter, Softmax, ReLU"
   ],
   "outputs": [],
   "execution_count": 15
  },
  {
   "metadata": {
    "ExecuteTime": {
     "end_time": "2025-09-15T13:17:53.367414Z",
     "start_time": "2025-09-15T13:17:53.356648Z"
    }
   },
   "cell_type": "code",
   "source": [
    "f = nn.Softmax(dim=0)\n",
    "x = nn.Parameter(Tensor([-1., 0., 1., 2., 5., -6.]), requires_grad=True)\n",
    "y = f(x)\n",
    "print(y)\n",
    "\n",
    "grad_out = Tensor([0., 2., -4., 6., 3., 2.])\n",
    "y.backward(grad_out, retain_graph=True)\n",
    "print(x.grad)\n",
    "\n",
    "\n",
    "\n"
   ],
   "id": "d6bc0736b964dc8d",
   "outputs": [
    {
     "name": "stdout",
     "output_type": "stream",
     "text": [
      "tensor([2.3008e-03, 6.2543e-03, 1.7001e-02, 4.6213e-02, 9.2822e-01, 1.5503e-05],\n",
      "       grad_fn=<SoftmaxBackward0>)\n",
      "tensor([-6.9173e-03, -6.2947e-03, -1.1912e-01,  1.3834e-01, -5.9973e-03,\n",
      "        -1.5603e-05])\n"
     ]
    }
   ],
   "execution_count": 37
  },
  {
   "metadata": {},
   "cell_type": "markdown",
   "source": "",
   "id": "d13d16b959267640"
  }
 ],
 "metadata": {
  "kernelspec": {
   "display_name": "Python 3",
   "language": "python",
   "name": "python3"
  },
  "language_info": {
   "codemirror_mode": {
    "name": "ipython",
    "version": 2
   },
   "file_extension": ".py",
   "mimetype": "text/x-python",
   "name": "python",
   "nbconvert_exporter": "python",
   "pygments_lexer": "ipython2",
   "version": "2.7.6"
  }
 },
 "nbformat": 4,
 "nbformat_minor": 5
}
